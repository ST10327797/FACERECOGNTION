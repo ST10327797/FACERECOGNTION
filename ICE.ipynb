{
  "nbformat": 4,
  "nbformat_minor": 0,
  "metadata": {
    "colab": {
      "provenance": []
    },
    "kernelspec": {
      "name": "python3",
      "display_name": "Python 3"
    },
    "language_info": {
      "name": "python"
    }
  },
  "cells": [
    {
      "cell_type": "code",
      "source": [
        "import cv2\n",
        "import os\n",
        "import numpy as np\n",
        "from sklearn.neighbors import KNeighborsClassifier\n",
        "from sklearn.utils import shuffle"
      ],
      "metadata": {
        "id": "KwahT2An4AC2"
      },
      "execution_count": 2,
      "outputs": []
    },
    {
      "cell_type": "code",
      "source": [
        "#Model\n",
        "face_cascade = cv2.CascadeClassifier('haarcascade_frontalface_default.xml')\n",
        "\n",
        "#Load our Nicolas dataset\n",
        "cage_directory = \"data/cage/Nicolas Cage Face - Frontal\"\n",
        "person_directory = \"data/person/person face picture - Frontal view\"\n",
        "image_size = (100, 100)\n",
        "n_neighbours = 9"
      ],
      "metadata": {
        "id": "xdGsvdKp4Ghd"
      },
      "execution_count": 3,
      "outputs": []
    },
    {
      "cell_type": "code",
      "source": [
        "def preprocess_image(image):\n",
        "    greyscale = cv2.cvtColor(image, cv2.COLOR_BGR2GRAY)\n",
        "    resized = cv2.resize(greyscale, image_size)\n",
        "\n",
        "    return resized"
      ],
      "metadata": {
        "id": "oOXbYcZT4Kkl"
      },
      "execution_count": 4,
      "outputs": []
    },
    {
      "cell_type": "code",
      "source": [
        "def extract_features(image):\n",
        "    win_size = (128, 128)\n",
        "    block_size = (16, 16)\n",
        "    block_stride = (8,8)\n",
        "    cell_size = (8,8)\n",
        "    nbins = 9\n",
        "    derivAperture = 1\n",
        "    winSigma = 4.\n",
        "    histogramNormType = 0\n",
        "    L2HysThreshold = 2.0000000000000001e-01\n",
        "    gammaCorrection = 0\n",
        "    nlevels = 64\n",
        "    hog = cv2.HOGDescriptor(win_size,block_size, block_stride, cell_size, nbins,derivAperture,winSigma,\n",
        "                        histogramNormType,L2HysThreshold,gammaCorrection,nlevels)\n",
        "\n",
        "\n",
        "    winStride = (8,8)\n",
        "    padding = (8,8)\n",
        "    locations = ((10,20),)\n",
        "    hist = hog.compute(image, winStride=winStride, padding=padding, locations=locations)\n",
        "    print(hist)\n",
        "    return hist"
      ],
      "metadata": {
        "id": "rs5SzeP24PSN"
      },
      "execution_count": 5,
      "outputs": []
    },
    {
      "cell_type": "code",
      "source": [
        "X_train = []\n",
        "y_train = []\n",
        "\n",
        "for filename in os.listdir(person_directory):\n",
        "    if filename.endswith(('.jpg', '.jpeg', '.png')):\n",
        "        #print(f\"{filename}\")\n",
        "        image_path = os.path.join(person_directory, filename)\n",
        "        image = cv2.imread(image_path)\n",
        "        preprocessed_image = preprocess_image(image)\n",
        "        features = extract_features(preprocessed_image)\n",
        "        X_train.append(features)\n",
        "        y_train.append(\"Normal Person\")\n",
        "for filename in os.listdir(cage_directory):\n",
        "    if filename.endswith(('.jpg', '.jpeg', '.png')):\n",
        "        #print(f\"{filename}\")\n",
        "        image_path = os.path.join(cage_directory, filename)\n",
        "        image = cv2.imread(image_path)\n",
        "        preprocessed_image = preprocess_image(image)\n",
        "        features = extract_features(preprocessed_image)\n",
        "        X_train.append(features)\n",
        "        y_train.append(\"Nicolas Cage\")\n",
        "\n",
        "\n",
        "\n",
        "X_train, y_train = shuffle(X_train, y_train, random_state=32)\n",
        "X_train = np.array(X_train)\n",
        "#Train KNN Model\n",
        "model = KNeighborsClassifier(n_neighbors=n_neighbours)\n",
        "model.fit(X_train, y_train)\n",
        "model.score(X_train, y_train)"
      ],
      "metadata": {
        "colab": {
          "base_uri": "https://localhost:8080/",
          "height": 211
        },
        "id": "JCSPFQwq4Rt9",
        "outputId": "50ca9a18-e396-4057-9520-6fc643add4e6"
      },
      "execution_count": 6,
      "outputs": [
        {
          "output_type": "error",
          "ename": "FileNotFoundError",
          "evalue": "[Errno 2] No such file or directory: 'data/person/person face picture - Frontal view'",
          "traceback": [
            "\u001b[0;31m---------------------------------------------------------------------------\u001b[0m",
            "\u001b[0;31mFileNotFoundError\u001b[0m                         Traceback (most recent call last)",
            "\u001b[0;32m<ipython-input-6-9f163e8c3b8d>\u001b[0m in \u001b[0;36m<cell line: 4>\u001b[0;34m()\u001b[0m\n\u001b[1;32m      2\u001b[0m \u001b[0my_train\u001b[0m \u001b[0;34m=\u001b[0m \u001b[0;34m[\u001b[0m\u001b[0;34m]\u001b[0m\u001b[0;34m\u001b[0m\u001b[0;34m\u001b[0m\u001b[0m\n\u001b[1;32m      3\u001b[0m \u001b[0;34m\u001b[0m\u001b[0m\n\u001b[0;32m----> 4\u001b[0;31m \u001b[0;32mfor\u001b[0m \u001b[0mfilename\u001b[0m \u001b[0;32min\u001b[0m \u001b[0mos\u001b[0m\u001b[0;34m.\u001b[0m\u001b[0mlistdir\u001b[0m\u001b[0;34m(\u001b[0m\u001b[0mperson_directory\u001b[0m\u001b[0;34m)\u001b[0m\u001b[0;34m:\u001b[0m\u001b[0;34m\u001b[0m\u001b[0;34m\u001b[0m\u001b[0m\n\u001b[0m\u001b[1;32m      5\u001b[0m     \u001b[0;32mif\u001b[0m \u001b[0mfilename\u001b[0m\u001b[0;34m.\u001b[0m\u001b[0mendswith\u001b[0m\u001b[0;34m(\u001b[0m\u001b[0;34m(\u001b[0m\u001b[0;34m'.jpg'\u001b[0m\u001b[0;34m,\u001b[0m \u001b[0;34m'.jpeg'\u001b[0m\u001b[0;34m,\u001b[0m \u001b[0;34m'.png'\u001b[0m\u001b[0;34m)\u001b[0m\u001b[0;34m)\u001b[0m\u001b[0;34m:\u001b[0m\u001b[0;34m\u001b[0m\u001b[0;34m\u001b[0m\u001b[0m\n\u001b[1;32m      6\u001b[0m         \u001b[0;31m#print(f\"{filename}\")\u001b[0m\u001b[0;34m\u001b[0m\u001b[0;34m\u001b[0m\u001b[0m\n",
            "\u001b[0;31mFileNotFoundError\u001b[0m: [Errno 2] No such file or directory: 'data/person/person face picture - Frontal view'"
          ]
        }
      ]
    },
    {
      "cell_type": "code",
      "source": [
        "test_image_dir = 'data/cage/Nicolas Cage normal front face picture'\n"
      ],
      "metadata": {
        "id": "_-0v3WIi5B23"
      },
      "execution_count": 7,
      "outputs": []
    },
    {
      "cell_type": "code",
      "source": [
        "for filename in os.listdir(test_image_dir):\n",
        "    if filename.endswith(('.jpg', '.jpeg', '.png')):\n",
        "        test_image_path = os.path.join(test_image_dir, filename)\n",
        "        test_image = cv2.imread(test_image_path)\n",
        "\n",
        "        #preprocess\n",
        "        preprocessed = preprocess_image(test_image)\n",
        "\n",
        "        #Face detection\n",
        "        faces = face_cascade.detectMultiScale(preprocessed, 1.1, 4)\n",
        "\n",
        "        #predict logic for each image\n",
        "        prediction =\"\"\n",
        "        if len(faces) == 0:\n",
        "            prediction = \"No Face Detected\"\n",
        "        else:\n",
        "            #extract features for the detected face\n",
        "            face_region = preprocessed[faces[0][1]:faces[0][1]+faces[0][3], faces[0][0]:faces[0][0]+faces[0][2]]\n",
        "            test_features = extract_features(face_region)\n",
        "            prediction = model.predict([test_features])[0]\n",
        "\n",
        "        print(f\"Image: {filename} - Prediction: {prediction}\")"
      ],
      "metadata": {
        "colab": {
          "base_uri": "https://localhost:8080/",
          "height": 211
        },
        "id": "Z0fJiidy5EjX",
        "outputId": "970a41b7-fac3-4e05-d424-8f9e7b0f5803"
      },
      "execution_count": 9,
      "outputs": [
        {
          "output_type": "error",
          "ename": "FileNotFoundError",
          "evalue": "[Errno 2] No such file or directory: 'data/cage/Nicolas Cage normal front face picture'",
          "traceback": [
            "\u001b[0;31m---------------------------------------------------------------------------\u001b[0m",
            "\u001b[0;31mFileNotFoundError\u001b[0m                         Traceback (most recent call last)",
            "\u001b[0;32m<ipython-input-9-6fd4bc090c19>\u001b[0m in \u001b[0;36m<cell line: 1>\u001b[0;34m()\u001b[0m\n\u001b[0;32m----> 1\u001b[0;31m \u001b[0;32mfor\u001b[0m \u001b[0mfilename\u001b[0m \u001b[0;32min\u001b[0m \u001b[0mos\u001b[0m\u001b[0;34m.\u001b[0m\u001b[0mlistdir\u001b[0m\u001b[0;34m(\u001b[0m\u001b[0mtest_image_dir\u001b[0m\u001b[0;34m)\u001b[0m\u001b[0;34m:\u001b[0m\u001b[0;34m\u001b[0m\u001b[0;34m\u001b[0m\u001b[0m\n\u001b[0m\u001b[1;32m      2\u001b[0m     \u001b[0;32mif\u001b[0m \u001b[0mfilename\u001b[0m\u001b[0;34m.\u001b[0m\u001b[0mendswith\u001b[0m\u001b[0;34m(\u001b[0m\u001b[0;34m(\u001b[0m\u001b[0;34m'.jpg'\u001b[0m\u001b[0;34m,\u001b[0m \u001b[0;34m'.jpeg'\u001b[0m\u001b[0;34m,\u001b[0m \u001b[0;34m'.png'\u001b[0m\u001b[0;34m)\u001b[0m\u001b[0;34m)\u001b[0m\u001b[0;34m:\u001b[0m\u001b[0;34m\u001b[0m\u001b[0;34m\u001b[0m\u001b[0m\n\u001b[1;32m      3\u001b[0m         \u001b[0mtest_image_path\u001b[0m \u001b[0;34m=\u001b[0m \u001b[0mos\u001b[0m\u001b[0;34m.\u001b[0m\u001b[0mpath\u001b[0m\u001b[0;34m.\u001b[0m\u001b[0mjoin\u001b[0m\u001b[0;34m(\u001b[0m\u001b[0mtest_image_dir\u001b[0m\u001b[0;34m,\u001b[0m \u001b[0mfilename\u001b[0m\u001b[0;34m)\u001b[0m\u001b[0;34m\u001b[0m\u001b[0;34m\u001b[0m\u001b[0m\n\u001b[1;32m      4\u001b[0m         \u001b[0mtest_image\u001b[0m \u001b[0;34m=\u001b[0m \u001b[0mcv2\u001b[0m\u001b[0;34m.\u001b[0m\u001b[0mimread\u001b[0m\u001b[0;34m(\u001b[0m\u001b[0mtest_image_path\u001b[0m\u001b[0;34m)\u001b[0m\u001b[0;34m\u001b[0m\u001b[0;34m\u001b[0m\u001b[0m\n\u001b[1;32m      5\u001b[0m \u001b[0;34m\u001b[0m\u001b[0m\n",
            "\u001b[0;31mFileNotFoundError\u001b[0m: [Errno 2] No such file or directory: 'data/cage/Nicolas Cage normal front face picture'"
          ]
        }
      ]
    },
    {
      "cell_type": "code",
      "source": [
        "from bing_image_downloader import downloader"
      ],
      "metadata": {
        "colab": {
          "base_uri": "https://localhost:8080/",
          "height": 314
        },
        "id": "mEQXbQcO7YE8",
        "outputId": "66ce4a8a-9cb5-470a-a1c9-8e61fb68350e"
      },
      "execution_count": 11,
      "outputs": [
        {
          "output_type": "error",
          "ename": "ModuleNotFoundError",
          "evalue": "No module named 'bing_image_downloader'",
          "traceback": [
            "\u001b[0;31m---------------------------------------------------------------------------\u001b[0m",
            "\u001b[0;31mModuleNotFoundError\u001b[0m                       Traceback (most recent call last)",
            "\u001b[0;32m<ipython-input-11-68fcf22e3a9c>\u001b[0m in \u001b[0;36m<cell line: 1>\u001b[0;34m()\u001b[0m\n\u001b[0;32m----> 1\u001b[0;31m \u001b[0;32mfrom\u001b[0m \u001b[0mbing_image_downloader\u001b[0m \u001b[0;32mimport\u001b[0m \u001b[0mdownloader\u001b[0m\u001b[0;34m\u001b[0m\u001b[0;34m\u001b[0m\u001b[0m\n\u001b[0m",
            "\u001b[0;31mModuleNotFoundError\u001b[0m: No module named 'bing_image_downloader'",
            "",
            "\u001b[0;31m---------------------------------------------------------------------------\u001b[0;32m\nNOTE: If your import is failing due to a missing package, you can\nmanually install dependencies using either !pip or !apt.\n\nTo view examples of installing some common dependencies, click the\n\"Open Examples\" button below.\n\u001b[0;31m---------------------------------------------------------------------------\u001b[0m\n"
          ],
          "errorDetails": {
            "actions": [
              {
                "action": "open_url",
                "actionText": "Open Examples",
                "url": "/notebooks/snippets/importing_libraries.ipynb"
              }
            ]
          }
        }
      ]
    },
    {
      "cell_type": "code",
      "source": [
        "def download_images(query, limit, output_dir):\n",
        "    try:\n",
        "        downloader.download(query, limit=limit, output_dir=output_dir, adult_filter_off=True, force_replace=False, timeout=60)\n",
        "        print(\"Downloaded\")\n",
        "    except  Exception as e:\n",
        "        print(\"Failed\")"
      ],
      "metadata": {
        "id": "GDomEPsG7cLt"
      },
      "execution_count": 12,
      "outputs": []
    },
    {
      "cell_type": "code",
      "source": [
        "download_images(\"Nicolas Cage Face - Frontal\", 100, \"data/cage\")"
      ],
      "metadata": {
        "colab": {
          "base_uri": "https://localhost:8080/"
        },
        "id": "xzK2Q1SS7j8r",
        "outputId": "220c4650-2a14-487d-e344-100d9cb96bd3"
      },
      "execution_count": 13,
      "outputs": [
        {
          "output_type": "stream",
          "name": "stdout",
          "text": [
            "Failed\n"
          ]
        }
      ]
    }
  ]
}